{
 "cells": [
  {
   "cell_type": "code",
   "execution_count": null,
   "id": "d4ede881",
   "metadata": {},
   "outputs": [],
   "source": [
    "import gym\n",
    "import sys\n",
    "sys.path.append('./src')\n",
    "\n",
    "#env_id = \"ALE/Pong-v5\"\n",
    "env_id = 'CartPole-v1'\n",
    "# Create the env\n",
    "env = gym.make(env_id)\n",
    "\n",
    "env.reset()\n",
    "\n",
    "def clipEnv(myenv, length=20):\n",
    "    clip = []\n",
    "    obs = []\n",
    "    for i in range(length):\n",
    "        action = myenv.action_space.sample()\n",
    "        state, _, done, _ = myenv.step(action)\n",
    "        obs.append(state)\n",
    "        if done:\n",
    "            myenv.reset()\n",
    "        clip.append(myenv.render(mode=\"rgb_array\"))\n",
    "    return clip, obs"
   ]
  },
  {
   "cell_type": "code",
   "execution_count": null,
   "id": "12d6875f",
   "metadata": {},
   "outputs": [],
   "source": [
    "from feedback import FeedbackManager\n",
    "\n",
    "fb = FeedbackManager(\"testcartpole.dat\")"
   ]
  },
  {
   "cell_type": "code",
   "execution_count": null,
   "id": "55301d1e",
   "metadata": {},
   "outputs": [],
   "source": [
    "for i in range(10):\n",
    "    clip1, obs1 = clipEnv(env)\n",
    "    clip2, obs2 = clipEnv(env)\n",
    "    fb.queueClips(clip1, clip2, obs1, obs2)"
   ]
  },
  {
   "cell_type": "code",
   "execution_count": null,
   "id": "9a16b6f8",
   "metadata": {
    "scrolled": false
   },
   "outputs": [],
   "source": [
    "#Have to manually do this multiple times...\n",
    "fb.updatePicker()"
   ]
  },
  {
   "cell_type": "code",
   "execution_count": null,
   "id": "1b4364dd",
   "metadata": {},
   "outputs": [],
   "source": [
    "fb.save()"
   ]
  },
  {
   "cell_type": "code",
   "execution_count": null,
   "id": "efbb169d",
   "metadata": {
    "scrolled": false
   },
   "outputs": [],
   "source": [
    "fb.viewComparisons()"
   ]
  },
  {
   "cell_type": "code",
   "execution_count": null,
   "id": "f07a29be",
   "metadata": {},
   "outputs": [],
   "source": [
    "import matplotlib.pyplot as plt\n",
    "plt.imshow(clip1[0])"
   ]
  },
  {
   "cell_type": "code",
   "execution_count": null,
   "id": "d3590946",
   "metadata": {},
   "outputs": [],
   "source": []
  }
 ],
 "metadata": {
  "kernelspec": {
   "display_name": "Python 3 (ipykernel)",
   "language": "python",
   "name": "python3"
  },
  "language_info": {
   "codemirror_mode": {
    "name": "ipython",
    "version": 3
   },
   "file_extension": ".py",
   "mimetype": "text/x-python",
   "name": "python",
   "nbconvert_exporter": "python",
   "pygments_lexer": "ipython3",
   "version": "3.9.12"
  }
 },
 "nbformat": 4,
 "nbformat_minor": 5
}
