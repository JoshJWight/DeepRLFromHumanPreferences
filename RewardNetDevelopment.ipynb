{
 "cells": [
  {
   "cell_type": "markdown",
   "id": "19364b3c",
   "metadata": {},
   "source": [
    "This notebook is unstable scratch paper for my ongoing experiments."
   ]
  },
  {
   "cell_type": "code",
   "execution_count": null,
   "id": "8110aa85",
   "metadata": {},
   "outputs": [],
   "source": [
    "#Setup\n",
    "\n",
    "import sys\n",
    "sys.path.append('./src')\n",
    "\n",
    "conv = True\n",
    "preprocess = True\n",
    "#env_id = \"ALE/Pong-v5\"\n",
    "env_id = \"PongNoFrameskip-v4\"\n",
    "fbfile = \"pong/pong_serious.dat\"\n",
    "#fbfile = \"pong_synth.dat\"\n",
    "#env_id = 'CartPole-v1'\n",
    "#fbfile = 'testcartpole.dat'\n",
    "#env_id = 'LunarLander-v2'\n",
    "#fbfile = \"lunarlandersynth.dat\"\n",
    "#fbfile = \"lunarlandernormal.dat\"\n",
    "#fbfile = \"lunarlander2.dat\"\n",
    "#env_id = \"BipedalWalker-v3\"\n",
    "#fbfile = \"bipedal1.dat\"\n",
    "\n",
    "save_dir = \"pong\"\n",
    "\n",
    "from training_ui import TrainingWindow\n",
    "\n",
    "tw = TrainingWindow(env_id, fbfile, save_dir, conv, preprocess)"
   ]
  },
  {
   "cell_type": "code",
   "execution_count": null,
   "id": "b672ea9f",
   "metadata": {
    "scrolled": true
   },
   "outputs": [],
   "source": [
    "#fb.viewComparisons()"
   ]
  },
  {
   "cell_type": "code",
   "execution_count": null,
   "id": "435da685",
   "metadata": {},
   "outputs": [],
   "source": []
  }
 ],
 "metadata": {
  "kernelspec": {
   "display_name": "Python 3 (ipykernel)",
   "language": "python",
   "name": "python3"
  },
  "language_info": {
   "codemirror_mode": {
    "name": "ipython",
    "version": 3
   },
   "file_extension": ".py",
   "mimetype": "text/x-python",
   "name": "python",
   "nbconvert_exporter": "python",
   "pygments_lexer": "ipython3",
   "version": "3.9.12"
  }
 },
 "nbformat": 4,
 "nbformat_minor": 5
}
