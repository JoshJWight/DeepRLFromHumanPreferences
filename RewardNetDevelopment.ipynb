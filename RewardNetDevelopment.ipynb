{
 "cells": [
  {
   "cell_type": "code",
   "execution_count": null,
   "id": "45fd51b3",
   "metadata": {},
   "outputs": [],
   "source": [
    "import gym\n",
    "import sys\n",
    "sys.path.append('./src')\n",
    "\n",
    "#env_id = \"ALE/Pong-v5\"\n",
    "env_id = 'CartPole-v1'\n",
    "# Create the env\n",
    "env = gym.make(env_id)\n",
    "\n",
    "env.reset()\n"
   ]
  },
  {
   "cell_type": "code",
   "execution_count": null,
   "id": "655aa6bb",
   "metadata": {},
   "outputs": [],
   "source": [
    "from feedback import FeedbackManager\n",
    "\n",
    "#fb = FeedbackManager(\"notrealfile.dat\", show_picker=False)\n",
    "fb = FeedbackManager(\"testcartpole.dat\", show_picker=False)"
   ]
  },
  {
   "cell_type": "code",
   "execution_count": null,
   "id": "43e2f09e",
   "metadata": {},
   "outputs": [],
   "source": [
    "import torch\n",
    "device = torch.device(\"cuda\")"
   ]
  },
  {
   "cell_type": "code",
   "execution_count": null,
   "id": "99065fd5",
   "metadata": {},
   "outputs": [],
   "source": [
    "from rewardmodel import RewardModel\n",
    "\n",
    "rewardmodel = RewardModel(env.observation_space.shape, device)"
   ]
  },
  {
   "cell_type": "code",
   "execution_count": null,
   "id": "02ba8cc4",
   "metadata": {
    "scrolled": true
   },
   "outputs": [],
   "source": [
    "for i in range(1000):\n",
    "    batch = fb.randomBatch(20)\n",
    "    rewardmodel.train(batch)"
   ]
  },
  {
   "cell_type": "code",
   "execution_count": null,
   "id": "08751871",
   "metadata": {},
   "outputs": [],
   "source": [
    "env.reset()\n",
    "state, _, done, _ = env.step(env.action_space.sample())\n",
    "env.render()\n",
    "if done:\n",
    "    env.reset()\n",
    "rewardmodel.evaluate(state)"
   ]
  },
  {
   "cell_type": "code",
   "execution_count": null,
   "id": "f3f817e7",
   "metadata": {},
   "outputs": [],
   "source": [
    "from stable_baselines3.common.env_checker import check_env"
   ]
  },
  {
   "cell_type": "code",
   "execution_count": null,
   "id": "023b14c7",
   "metadata": {},
   "outputs": [],
   "source": [
    "from envwithrewardmodel import EnvWithRewardModel\n",
    "def makeenvfun():\n",
    "    def _f():\n",
    "        base_env_id = 'CartPole-v1'\n",
    "        base_env = gym.make(base_env_id)\n",
    "        return EnvWithRewardModel(base_env, rewardmodel)\n",
    "    return _f "
   ]
  },
  {
   "cell_type": "code",
   "execution_count": null,
   "id": "64e3b52a",
   "metadata": {},
   "outputs": [],
   "source": [
    "from stable_baselines3.common.vec_env import DummyVecEnv\n",
    "vec_env = DummyVecEnv([makeenvfun() for i in range(4)])"
   ]
  },
  {
   "cell_type": "code",
   "execution_count": null,
   "id": "41455fa9",
   "metadata": {
    "scrolled": false
   },
   "outputs": [],
   "source": [
    "from stable_baselines3.common.evaluation import evaluate_policy\n",
    "from stable_baselines3 import A2C\n",
    "\n",
    "\n",
    "\n",
    "model = A2C(\"MlpPolicy\", vec_env, verbose=1)"
   ]
  },
  {
   "cell_type": "code",
   "execution_count": null,
   "id": "27ae56f7",
   "metadata": {
    "scrolled": true
   },
   "outputs": [],
   "source": [
    "reward_target = 300\n",
    "for i in range(1000):\n",
    "    model.learn(total_timesteps=1000, reset_num_timesteps=False)\n",
    "\n",
    "    mean_reward, std_reward = evaluate_policy(model, model.get_env(), n_eval_episodes=10)\n",
    "    print(f\"{(i+1) * 1000}: mean {mean_reward}, std {std_reward}\")\n",
    "    if mean_reward > reward_target:\n",
    "        print(f\"took {(i+1) * 1000} timesteps to reach mean reward {reward_target}\")\n",
    "        break;"
   ]
  },
  {
   "cell_type": "code",
   "execution_count": null,
   "id": "e95e569a",
   "metadata": {},
   "outputs": [],
   "source": [
    "obs = env.reset()\n",
    "total_reward = 0\n",
    "for i in range(500):\n",
    "    action, _states = model.predict(obs)\n",
    "    obs, _, done, _ = env.step(action)\n",
    "    reward = rewardmodel.evaluate(obs)\n",
    "    print(reward)\n",
    "    total_reward += reward\n",
    "    if done:\n",
    "        env.reset()\n",
    "    env.render()\n",
    "    \n",
    "print(f\"total reward: {total_reward}\")"
   ]
  },
  {
   "cell_type": "code",
   "execution_count": null,
   "id": "1bf98e96",
   "metadata": {},
   "outputs": [],
   "source": []
  }
 ],
 "metadata": {
  "kernelspec": {
   "display_name": "Python 3 (ipykernel)",
   "language": "python",
   "name": "python3"
  },
  "language_info": {
   "codemirror_mode": {
    "name": "ipython",
    "version": 3
   },
   "file_extension": ".py",
   "mimetype": "text/x-python",
   "name": "python",
   "nbconvert_exporter": "python",
   "pygments_lexer": "ipython3",
   "version": "3.9.12"
  }
 },
 "nbformat": 4,
 "nbformat_minor": 5
}
