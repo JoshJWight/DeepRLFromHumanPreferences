{
 "cells": [
  {
   "cell_type": "markdown",
   "id": "19364b3c",
   "metadata": {},
   "source": [
    "This notebook is unstable scratch paper for my ongoing experiments."
   ]
  },
  {
   "cell_type": "code",
   "execution_count": null,
   "id": "8110aa85",
   "metadata": {},
   "outputs": [],
   "source": [
    "#Setup\n",
    "\n",
    "import gym\n",
    "import sys\n",
    "sys.path.append('./src')\n",
    "import torch\n",
    "device = torch.device(\"cuda\")\n",
    "\n",
    "env_id = \"ALE/Pong-v5\"\n",
    "#fbfile = \"pong.dat\"\n",
    "fbfile = \"pong_synth.dat\"\n",
    "#env_id = 'CartPole-v1'\n",
    "#fbfile = 'testcartpole.dat'\n",
    "#env_id = 'LunarLander-v2'\n",
    "#fbfile = \"lunarlandersynth.dat\"\n",
    "#fbfile = \"lunarlandernormal.dat\"\n",
    "#fbfile = \"lunarlander2.dat\"\n",
    "#env_id = \"BipedalWalker-v3\"\n",
    "#fbfile = \"bipedal1.dat\"\n",
    "# Create the env\n",
    "env = gym.make(env_id)\n",
    "\n",
    "env.reset()\n",
    "\n",
    "\n",
    "from feedback import FeedbackManager\n",
    "\n",
    "fb = FeedbackManager(fbfile, show_picker=True)\n",
    "\n",
    "from rewardmodel import MlpRewardModel, ConvRewardModel\n",
    "from rewardensemble import RewardEnsemble\n",
    "\n",
    "def makemodelfun():\n",
    "    def _f():\n",
    "        #return MlpRewardModel(env.observation_space.shape, device)\n",
    "        return ConvRewardModel(env.observation_space.shape, device)\n",
    "    return _f\n",
    "\n",
    "#rewardmodel = MlpRewardModel(env.observation_space.shape, device)\n",
    "rewardensemble = RewardEnsemble(3, makemodelfun())\n",
    "\n",
    "from envwithrewardmodel import EnvWithRewardModel\n",
    "def makeenvfun():\n",
    "    def _f():\n",
    "        #env_id specified higher in the notebook\n",
    "        base_env = gym.make(env_id)\n",
    "        return EnvWithRewardModel(base_env, rewardensemble)\n",
    "    return _f\n",
    "\n",
    "\n",
    "\n",
    "from stable_baselines3.common.vec_env import DummyVecEnv\n",
    "vec_env = DummyVecEnv([makeenvfun() for i in range(4)])\n",
    "\n",
    "from stable_baselines3.common.evaluation import evaluate_policy\n",
    "from stable_baselines3 import A2C\n",
    "\n",
    "\n",
    "\n",
    "#model = A2C(\"MlpPolicy\", vec_env, verbose=1)\n",
    "model = A2C(\"CnnPolicy\", vec_env, verbose=1)\n",
    "\n",
    "#Train reward model\n",
    "def train_reward(n):\n",
    "    for i in range(n):\n",
    "        #batch = fb.randomBatch(20)\n",
    "        #rewardmodel.train(batch)\n",
    "        batches = fb.batchForEnsemble(20, rewardensemble.n)\n",
    "        rewardensemble.train(batches)\n",
    "        \n",
    "        \n",
    "#Train agent\n",
    "def train_a2c(n):\n",
    "    for i in range(n):\n",
    "        model.learn(total_timesteps=1000, reset_num_timesteps=False)\n",
    "\n",
    "        mean_reward, std_reward = evaluate_policy(model, model.get_env(), n_eval_episodes=10)\n",
    "        print(f\"{(i+1) * 1000}: mean {mean_reward}, std {std_reward}\")\n",
    "        \n",
    "from harvestclip import harvestClips, harvestSynthetic, harvestWithEnsemble\n",
    "\n",
    "harvest_env = gym.make(env_id)\n",
    "def harvest(n):\n",
    "    for i in range(n):\n",
    "        clips, obs = harvestClips(harvest_env, model, n_timesteps=300)\n",
    "        fb.queueClips(clips[0], clips[1], obs[0], obs[1])\n",
    "        \n",
    "def harvest_ensemble(n):\n",
    "    for i in range(n):\n",
    "        clips, obs = harvestWithEnsemble(harvest_env, model, rewardensemble, n_timesteps=300)\n",
    "        fb.queueClips(clips[0], clips[1], obs[0], obs[1])\n",
    "        \n",
    "def add_synth_feedback(n):\n",
    "    for i in range(n):\n",
    "        fb.addComparison(harvestSynthetic(harvest_env, model, n_timesteps=300))\n"
   ]
  },
  {
   "cell_type": "markdown",
   "id": "d99f26b1",
   "metadata": {},
   "source": [
    "The bits of the training loop. Use them in any order as needed."
   ]
  },
  {
   "cell_type": "code",
   "execution_count": null,
   "id": "e562b81e",
   "metadata": {},
   "outputs": [],
   "source": [
    "add_synth_feedback(200)"
   ]
  },
  {
   "cell_type": "code",
   "execution_count": null,
   "id": "beffb072",
   "metadata": {},
   "outputs": [],
   "source": [
    "import matplotlib.pyplot as plt\n",
    "plt.imshow(fb.comparisons[0][\"observations\"][0][0])"
   ]
  },
  {
   "cell_type": "code",
   "execution_count": null,
   "id": "ac3c2ff5",
   "metadata": {
    "scrolled": true
   },
   "outputs": [],
   "source": [
    "train_reward(10)"
   ]
  },
  {
   "cell_type": "code",
   "execution_count": null,
   "id": "911cbcb2",
   "metadata": {},
   "outputs": [],
   "source": []
  },
  {
   "cell_type": "code",
   "execution_count": null,
   "id": "9fe28d61",
   "metadata": {
    "scrolled": true
   },
   "outputs": [],
   "source": [
    "train_a2c(10)"
   ]
  },
  {
   "cell_type": "code",
   "execution_count": null,
   "id": "8bcc1197",
   "metadata": {
    "scrolled": true
   },
   "outputs": [],
   "source": [
    "harvest(20)"
   ]
  },
  {
   "cell_type": "code",
   "execution_count": null,
   "id": "01945401",
   "metadata": {
    "scrolled": true
   },
   "outputs": [],
   "source": [
    "harvest_ensemble(10)"
   ]
  },
  {
   "cell_type": "markdown",
   "id": "e3f2e42d",
   "metadata": {},
   "source": [
    "Below here we have some situational stuff that you can use out of order."
   ]
  },
  {
   "cell_type": "code",
   "execution_count": null,
   "id": "030d52fe",
   "metadata": {},
   "outputs": [],
   "source": [
    "fb.save()"
   ]
  },
  {
   "cell_type": "code",
   "execution_count": null,
   "id": "b672ea9f",
   "metadata": {
    "scrolled": true
   },
   "outputs": [],
   "source": [
    "fb.viewComparisons()"
   ]
  },
  {
   "cell_type": "code",
   "execution_count": null,
   "id": "29f3cdbc",
   "metadata": {},
   "outputs": [],
   "source": [
    "from envplayer import EnvPlayer\n",
    "\n",
    "player_env = gym.make(env_id)\n",
    "player = EnvPlayer(player_env, model, rewardensemble)"
   ]
  },
  {
   "cell_type": "code",
   "execution_count": null,
   "id": "1a6d1cf3",
   "metadata": {},
   "outputs": [],
   "source": [
    "#model.save(\"a2c_lunarlander\")"
   ]
  },
  {
   "cell_type": "code",
   "execution_count": null,
   "id": "89b79407",
   "metadata": {},
   "outputs": [],
   "source": [
    "evals = rewardensemble.models[0].naneval\n",
    "evals"
   ]
  },
  {
   "cell_type": "code",
   "execution_count": null,
   "id": "5b2fa88a",
   "metadata": {},
   "outputs": [],
   "source": [
    "evals.shape"
   ]
  },
  {
   "cell_type": "code",
   "execution_count": null,
   "id": "2851628e",
   "metadata": {},
   "outputs": [],
   "source": []
  }
 ],
 "metadata": {
  "kernelspec": {
   "display_name": "Python 3 (ipykernel)",
   "language": "python",
   "name": "python3"
  },
  "language_info": {
   "codemirror_mode": {
    "name": "ipython",
    "version": 3
   },
   "file_extension": ".py",
   "mimetype": "text/x-python",
   "name": "python",
   "nbconvert_exporter": "python",
   "pygments_lexer": "ipython3",
   "version": "3.9.12"
  }
 },
 "nbformat": 4,
 "nbformat_minor": 5
}
