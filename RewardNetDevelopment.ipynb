{
 "cells": [
  {
   "cell_type": "code",
   "execution_count": null,
   "id": "438224e1",
   "metadata": {},
   "outputs": [],
   "source": [
    "#Setup\n",
    "\n",
    "import gym\n",
    "import sys\n",
    "sys.path.append('./src')\n",
    "import torch\n",
    "device = torch.device(\"cuda\")\n",
    "\n",
    "#env_id = \"ALE/Pong-v5\"\n",
    "#env_id = 'CartPole-v1'\n",
    "env_id = 'LunarLander-v2'\n",
    "fbfile = \"lunarlandernormal.dat\"\n",
    "# Create the env\n",
    "env = gym.make(env_id)\n",
    "\n",
    "env.reset()\n",
    "\n",
    "\n",
    "from feedback import FeedbackManager\n",
    "\n",
    "fb = FeedbackManager(fbfile, show_picker=True)\n",
    "\n",
    "from rewardmodel import MlpRewardModel\n",
    "\n",
    "rewardmodel = MlpRewardModel(env.observation_space.shape, device, n_hidden=20)\n",
    "\n",
    "from envwithrewardmodel import EnvWithRewardModel\n",
    "def makeenvfun():\n",
    "    def _f():\n",
    "        #env_id specified higher in the notebook\n",
    "        base_env = gym.make(env_id)\n",
    "        return EnvWithRewardModel(base_env, rewardmodel)\n",
    "    return _f \n",
    "\n",
    "from stable_baselines3.common.vec_env import DummyVecEnv\n",
    "vec_env = DummyVecEnv([makeenvfun() for i in range(4)])\n",
    "\n",
    "from stable_baselines3.common.evaluation import evaluate_policy\n",
    "from stable_baselines3 import A2C\n",
    "\n",
    "\n",
    "\n",
    "model = A2C(\"MlpPolicy\", vec_env, verbose=1)"
   ]
  },
  {
   "cell_type": "code",
   "execution_count": null,
   "id": "17d620d0",
   "metadata": {
    "scrolled": true
   },
   "outputs": [],
   "source": [
    "#Train reward model\n",
    "\n",
    "for i in range(10000):\n",
    "    batch = fb.randomBatch(20)\n",
    "    rewardmodel.train(batch)"
   ]
  },
  {
   "cell_type": "code",
   "execution_count": null,
   "id": "ce07dc54",
   "metadata": {
    "scrolled": true
   },
   "outputs": [],
   "source": [
    "#Train agent\n",
    "\n",
    "reward_target = 250\n",
    "for i in range(10):\n",
    "    model.learn(total_timesteps=1000, reset_num_timesteps=False)\n",
    "\n",
    "    mean_reward, std_reward = evaluate_policy(model, model.get_env(), n_eval_episodes=10)\n",
    "    print(f\"{(i+1) * 1000}: mean {mean_reward}, std {std_reward}\")\n",
    "    if mean_reward > reward_target:\n",
    "        print(f\"took {(i+1) * 1000} timesteps to reach mean reward {reward_target}\")\n",
    "        break;"
   ]
  },
  {
   "cell_type": "code",
   "execution_count": null,
   "id": "50659e59",
   "metadata": {},
   "outputs": [],
   "source": [
    "#Env player - this does not play nice with clip harvesting\n",
    "\n",
    "from envplayer import EnvPlayer\n",
    "\n",
    "player = EnvPlayer(env, model, rewardmodel)"
   ]
  },
  {
   "cell_type": "code",
   "execution_count": null,
   "id": "3c23d8e9",
   "metadata": {
    "scrolled": true
   },
   "outputs": [],
   "source": [
    "#Clip harvesting\n",
    "\n",
    "from harvestclip import harvestClips\n",
    "\n",
    "for i in range(20):\n",
    "    clips, obs = harvestClips(env, model, n_timesteps=300)\n",
    "    fb.queueClips(clips[0], clips[1], obs[0], obs[1])\n"
   ]
  },
  {
   "cell_type": "code",
   "execution_count": null,
   "id": "ee379acf",
   "metadata": {},
   "outputs": [],
   "source": [
    "fb.save()"
   ]
  },
  {
   "cell_type": "code",
   "execution_count": null,
   "id": "13c6ea82",
   "metadata": {},
   "outputs": [],
   "source": [
    "fb.viewComparisons()"
   ]
  },
  {
   "cell_type": "code",
   "execution_count": null,
   "id": "4de14e17",
   "metadata": {},
   "outputs": [],
   "source": []
  }
 ],
 "metadata": {
  "kernelspec": {
   "display_name": "Python 3 (ipykernel)",
   "language": "python",
   "name": "python3"
  },
  "language_info": {
   "codemirror_mode": {
    "name": "ipython",
    "version": 3
   },
   "file_extension": ".py",
   "mimetype": "text/x-python",
   "name": "python",
   "nbconvert_exporter": "python",
   "pygments_lexer": "ipython3",
   "version": "3.9.12"
  }
 },
 "nbformat": 4,
 "nbformat_minor": 5
}
